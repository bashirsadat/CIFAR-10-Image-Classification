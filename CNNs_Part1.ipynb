{
 "cells": [
  {
   "cell_type": "markdown",
   "metadata": {},
   "source": [
    "# Loading and Checking Data"
   ]
  },
  {
   "cell_type": "markdown",
   "metadata": {},
   "source": [
    "## Importing Libraries"
   ]
  },
  {
   "cell_type": "code",
   "execution_count": 2,
   "metadata": {},
   "outputs": [],
   "source": [
    "import torch\n",
    "import torchvision\n",
    "import torchvision.transforms as transforms\n",
    "import torch.nn as nn\n",
    "import torch.nn.functional as F\n",
    "import torch.optim as optim\n",
    "from torch.autograd import Variable\n",
    "\n",
    "import math\n",
    "import numpy as np\n",
    "import matplotlib.pyplot as plt\n",
    "%matplotlib inline"
   ]
  },
  {
   "cell_type": "code",
   "execution_count": 3,
   "metadata": {},
   "outputs": [],
   "source": [
    "use_cuda = torch.cuda.is_available()"
   ]
  },
  {
   "cell_type": "markdown",
   "metadata": {},
   "source": [
    "## Loading Data"
   ]
  },
  {
   "cell_type": "code",
   "execution_count": 55,
   "metadata": {},
   "outputs": [
    {
     "name": "stdout",
     "output_type": "stream",
     "text": [
      "Files already downloaded and verified\n",
      "Files already downloaded and verified\n"
     ]
    }
   ],
   "source": [
    "batch_size = 4\n",
    "\n",
    "# These are the mean and standard deviation values for all pictures in the training set.\n",
    "mean = (0.4914 ,  0.48216,  0.44653)\n",
    "std = (0.24703,  0.24349,  0.26159)\n",
    "\n",
    "# Class to denormalize images to display later.\n",
    "class DeNormalize(object):\n",
    "    def __init__(self, mean, std):\n",
    "        self.mean = mean\n",
    "        self.std = std\n",
    "\n",
    "    def __call__(self, tensor):\n",
    "        for t, m, s in zip(tensor, self.mean, self.std):\n",
    "            t.mul_(s).add_(m)\n",
    "        return tensor\n",
    "\n",
    "# Creating instance of Functor\n",
    "denorm = DeNormalize(mean, std)\n",
    "\n",
    "# Load data\n",
    "transform = transforms.Compose([transforms.ToTensor(),\n",
    "                                transforms.Normalize(mean, std)])\n",
    "\n",
    "trainset = torchvision.datasets.CIFAR10(root='./data', train=True,\n",
    "                                        download=True, transform=transform)\n",
    "\n",
    "trainloader = torch.utils.data.DataLoader(trainset, batch_size=batch_size,\n",
    "                                          shuffle=True, num_workers=4)\n",
    "\n",
    "testset = torchvision.datasets.CIFAR10(root='./data', train=False,\n",
    "                                       download=True, transform=transform)\n",
    "\n",
    "# Do NOT shuffle the test set or else the order will be messed up\n",
    "testloader = torch.utils.data.DataLoader(testset, batch_size=batch_size,\n",
    "                                         shuffle=False, num_workers=4)\n",
    "\n",
    "# Classes in order\n",
    "classes = ('plane', 'car', 'bird', 'cat',\n",
    "           'deer', 'dog', 'frog', 'horse', 'ship', 'truck')"
   ]
  },
  {
   "cell_type": "markdown",
   "metadata": {},
   "source": [
    "## Sample Images and Labels"
   ]
  },
  {
   "cell_type": "code",
   "execution_count": 5,
   "metadata": {},
   "outputs": [
    {
     "name": "stdout",
     "output_type": "stream",
     "text": [
      "  dog truck   dog  bird\n"
     ]
    },
    {
     "data": {
      "image/png": "[encoded data removed]",
      "text/plain": [
       "<Figure size 432x288 with 1 Axes>"
      ]
     },
     "metadata": {},
     "output_type": "display_data"
    }
   ],
   "source": [
    "# functions to show an image\n",
    "def imshow(img):\n",
    "    img = denorm(img)    # unnormalize\n",
    "    npimg = img.numpy()\n",
    "    plt.imshow(np.transpose(npimg, (1, 2, 0)))\n",
    "\n",
    "\n",
    "# get some random training images\n",
    "dataiter = iter(trainloader)\n",
    "images, labels = dataiter.next()\n",
    "\n",
    "# show images\n",
    "imshow(torchvision.utils.make_grid(images))\n",
    "# print labels\n",
    "print(' '.join('%5s' % classes[labels[j]] for j in range(4)))"
   ]
  },
  {
   "cell_type": "markdown",
   "metadata": {},
   "source": [
    "# Defining Model"
   ]
  },
  {
   "cell_type": "markdown",
   "metadata": {},
   "source": [
    "## Fully-Connected DNN"
   ]
  },
  {
   "cell_type": "code",
   "execution_count": 6,
   "metadata": {},
   "outputs": [],
   "source": [
    "class Net_DNN(nn.Module):\n",
    "    def __init__(self, architecture):\n",
    "        super().__init__()\n",
    "        self.layers = nn.ModuleList([\n",
    "                                    nn.Linear(architecture[layer], architecture[layer + 1]) \n",
    "                                    for layer in range(len(architecture) - 1)])\n",
    "        \n",
    "    def forward(self, data):\n",
    "        # Flatten the Tensor (i.e., dimensions 3 x 32 x 32) to a single column\n",
    "        data = data.view(data.size(0), -1)\n",
    "        for layer in self.layers:\n",
    "            layer_data = layer(data)\n",
    "            data = F.relu(layer_data)\n",
    "        return F.log_softmax(layer_data, dim=-1)"
   ]
  },
  {
   "cell_type": "markdown",
   "metadata": {},
   "source": [
    "## Fully-CNN"
   ]
  },
  {
   "cell_type": "code",
   "execution_count": 33,
   "metadata": {},
   "outputs": [],
   "source": [
    "class Net_CNN(nn.Module):\n",
    "    # Padding is set to 2 and stride to 2\n",
    "    # Padding ensures all edge pixels are exposed to the filter\n",
    "    # Stride = 2 is common practice\n",
    "    def __init__(self, layers, c, stride=2):\n",
    "        super().__init__()\n",
    "        self.layers = nn.ModuleList([\n",
    "                                    nn.Conv2d(layers[i], layers[i + 1], kernel_size=3, padding=2, stride=stride)\n",
    "                                    for i in range(len(layers) - 1)])\n",
    "        self.pool = nn.AdaptiveMaxPool2d(1) # Simply takes the maximum value from the Tensor\n",
    "        self.out = nn.Linear(layers[-1], c)\n",
    "        \n",
    "    def forward(self, data):\n",
    "        for layer in self.layers: \n",
    "            data = F.relu(layer(data))\n",
    "        data = self.pool(data)\n",
    "        data = data.view(data.size(0), -1)\n",
    "        return F.log_softmax(self.out(data), dim=-1)"
   ]
  },
  {
   "cell_type": "markdown",
   "metadata": {},
   "source": [
    "## Chained CNN and NN"
   ]
  },
  {
   "cell_type": "code",
   "execution_count": 59,
   "metadata": {},
   "outputs": [],
   "source": [
    "class Net_CNN_NN(nn.Module):\n",
    "    # Padding is set to 2 and stride to 2\n",
    "    # Padding ensures all edge pixels are exposed to the filter\n",
    "    # Stride = 2 is common practice\n",
    "    def __init__(self, layers, architecture, stride=2):\n",
    "        super().__init__()\n",
    "        # Fully Convolutional Layers\n",
    "        self.layers = nn.ModuleList([\n",
    "                                    nn.Conv2d(layers[i], layers[i + 1], kernel_size=3, padding=2,stride=stride)\n",
    "                                    for i in range(len(layers) - 1)])\n",
    "        # Fully Connected Neural Network to map to output\n",
    "        self.layers_NN = nn.ModuleList([\n",
    "                                    nn.Linear(architecture[layer], architecture[layer + 1]) \n",
    "                                    for layer in range(len(architecture) - 1)])\n",
    "        \n",
    "        self.pool = nn.AdaptiveMaxPool2d(1) # Simply takes the maximum value from the Tensor\n",
    "        \n",
    "    def forward(self, data):\n",
    "        for layer in self.layers: \n",
    "            data = F.relu(layer(data))\n",
    "        data = self.pool(data)\n",
    "        data = data.view(data.size(0), -1)\n",
    "        for layer in self.layers_NN:\n",
    "            layer_data = layer(data)\n",
    "            data = F.relu(layer_data)\n",
    "        \n",
    "        return F.log_softmax(layer_data, dim=-1)"
   ]
  },
  {
   "cell_type": "markdown",
   "metadata": {},
   "source": [
    "## Defining the NN, Loss Function and Optimizer"
   ]
  },
  {
   "cell_type": "code",
   "execution_count": 61,
   "metadata": {},
   "outputs": [],
   "source": [
    "# ---------------------------------------------\n",
    "# Uncomment the architecture you want to use\n",
    "# ---------------------------------------------\n",
    "\n",
    "# # DNN\n",
    "# architecture = [32*32*3, 100, 100, 100, 100, 10]\n",
    "# net = Net_DNN(architecture)\n",
    "\n",
    "# # CNN\n",
    "# architecture = [3, 20, 40, 80, 160]\n",
    "# num_outputs = 10\n",
    "# net = Net_CNN(architecture, num_outputs)\n",
    "\n",
    "# # CNN with NN\n",
    "# architecture = [3, 20, 40, 80]\n",
    "# architecture_NN = [80, 40, 20, 10]\n",
    "# num_outputs = 10\n",
    "# net = Net_CNN_NN(architecture, architecture_NN)\n",
    "\n",
    "if use_cuda:\n",
    "    net = net.cuda() # Training on the GPU\n",
    "\n",
    "criterion = nn.CrossEntropyLoss()"
   ]
  },
  {
   "cell_type": "markdown",
   "metadata": {},
   "source": [
    "## Loading Model"
   ]
  },
  {
   "cell_type": "code",
   "execution_count": 50,
   "metadata": {},
   "outputs": [],
   "source": [
    "# ---------------------------------------------\n",
    "# Uncomment the architecture you want to use\n",
    "# ---------------------------------------------\n",
    "\n",
    "# # DNN\n",
    "# architecture = [32*32*3, 100, 100, 10]\n",
    "# net = Net_DNN(architecture)\n",
    "\n",
    "# # CNN\n",
    "# architecture = [3, 20, 40, 80, 160]\n",
    "# num_outputs = 10\n",
    "# net = Net_CNN(architecture, num_outputs)\n",
    "# criterion = nn.CrossEntropyLoss()\n",
    "\n",
    "if use_cuda:\n",
    "    net = net.cuda() # Training on the GPU\n",
    "\n",
    "# ---------------------------------------------\n",
    "# Uetermine the path for the saved weights\n",
    "# ---------------------------------------------\n",
    "PATH = './checkpoints_CNN_v2/5'\n",
    "# Load weights\n",
    "net.load_state_dict(torch.load(PATH))"
   ]
  },
  {
   "cell_type": "markdown",
   "metadata": {},
   "source": [
    "## Recording Loss"
   ]
  },
  {
   "cell_type": "code",
   "execution_count": 62,
   "metadata": {},
   "outputs": [],
   "source": [
    "# Initialize a list of loss_results\n",
    "loss_results = []"
   ]
  },
  {
   "cell_type": "markdown",
   "metadata": {},
   "source": [
    "# Training Manual"
   ]
  },
  {
   "cell_type": "code",
   "execution_count": 65,
   "metadata": {},
   "outputs": [
    {
     "name": "stdout",
     "output_type": "stream",
     "text": [
      "Epoch: 11\n",
      "0.7631593999336473\n",
      "0.772029997533653\n",
      "0.7622815664624796\n",
      "0.7895928663983941\n",
      "0.7818622282706201\n",
      "0.7965481701032259\n",
      "Epoch: 12\n",
      "0.7587507799463347\n",
      "0.7542067431546747\n",
      "0.7607613385347649\n",
      "0.7611085303728469\n",
      "0.7500329479556531\n",
      "0.768398270084057\n",
      "Epoch: 13\n",
      "0.7284724237506743\n",
      "0.7313052681912668\n",
      "0.7489473702453543\n",
      "0.7530480517586693\n",
      "0.7388339222935029\n",
      "0.776530001245439\n",
      "Epoch: 14\n",
      "0.7227064029038883\n",
      "0.7381190525260753\n",
      "0.7362304750531912\n",
      "0.7219595499557908\n",
      "0.7571793817970902\n",
      "0.7341004028483294\n",
      "Epoch: 15\n",
      "0.7172498370609246\n",
      "0.7022846946662757\n",
      "0.7447555431951769\n",
      "0.7256098798593739\n",
      "0.719516308715567\n",
      "0.731529594759224\n"
     ]
    }
   ],
   "source": [
    "# Set the Learning rate and epoch start and end points\n",
    "start_epoch = 11\n",
    "end_epoch = 15\n",
    "lr = 0.0001\n",
    "# Define the optimizer\n",
    "optimizer = optim.SGD(net.parameters(), lr=lr, momentum=0.9)\n",
    "\n",
    "for epoch in range(start_epoch, end_epoch+1):  # loop over the dataset multiple times\n",
    "    print(\"Epoch:\", epoch)\n",
    "    running_loss = 0.0\n",
    "    for i, (inputs, labels) in enumerate(trainloader, 0):\n",
    "        # get the inputs\n",
    "        if use_cuda:\n",
    "            inputs, labels = inputs.cuda(), labels.cuda()\n",
    "\n",
    "        # wrap them in Variable\n",
    "        inputs, labels = Variable(inputs), Variable(labels) # Inputs and Target values to GPU\n",
    "\n",
    "        # zero the parameter gradients\n",
    "        optimizer.zero_grad()\n",
    "\n",
    "        # forward + backward + optimize\n",
    "        outputs = net(inputs)\n",
    "        loss = criterion(outputs, labels)\n",
    "        loss.backward()\n",
    "        optimizer.step()\n",
    "\n",
    "        # print statistics\n",
    "        running_loss += loss.data[0]\n",
    "        if i % 2000 == 1999:    # print every 2000 mini-batches\n",
    "            print(running_loss / 2000)\n",
    "            loss_results.append(running_loss / 2000)\n",
    "            running_loss = 0.0\n",
    "    PATH = './checkpoints_hybrid/' + str(epoch)\n",
    "    torch.save(net.state_dict(), PATH)\n",
    "        "
   ]
  },
  {
   "cell_type": "markdown",
   "metadata": {},
   "source": [
    "## Sample of the Results"
   ]
  },
  {
   "cell_type": "code",
   "execution_count": 46,
   "metadata": {},
   "outputs": [
    {
     "name": "stdout",
     "output_type": "stream",
     "text": [
      "GroundTruth:    cat  ship  ship plane\n"
     ]
    },
    {
     "data": {
      "image/png": "[encoded data removed]",
      "text/plain": [
       "<Figure size 432x288 with 1 Axes>"
      ]
     },
     "metadata": {},
     "output_type": "display_data"
    }
   ],
   "source": [
    "# load a min-batch of the images\n",
    "dataiter = iter(testloader)\n",
    "images, labels = dataiter.next()\n",
    "\n",
    "# print images\n",
    "imshow(torchvision.utils.make_grid(images))\n",
    "print('GroundTruth: ', ' '.join('%5s' % classes[labels[j]] for j in range(4)))"
   ]
  },
  {
   "cell_type": "markdown",
   "metadata": {},
   "source": [
    "## Sample of Predictions"
   ]
  },
  {
   "cell_type": "code",
   "execution_count": 47,
   "metadata": {},
   "outputs": [
    {
     "name": "stdout",
     "output_type": "stream",
     "text": [
      "Predicted:    cat  ship  ship  ship\n"
     ]
    }
   ],
   "source": [
    "# For the images shown above, show the predictions\n",
    "# first activate GPU processing\n",
    "images, labels = images.cuda(), labels.cuda()\n",
    "\n",
    "# Feed forward\n",
    "outputs = net(Variable(images))\n",
    "_, predicted = torch.max(outputs.data, 1)\n",
    "\n",
    "print('Predicted: ', ' '.join('%5s' % classes[predicted[j]]\n",
    "                              for j in range(4)))"
   ]
  },
  {
   "cell_type": "markdown",
   "metadata": {},
   "source": [
    "## Total Test Set Accuracy"
   ]
  },
  {
   "cell_type": "code",
   "execution_count": 66,
   "metadata": {},
   "outputs": [
    {
     "name": "stdout",
     "output_type": "stream",
     "text": [
      "Accuracy of the network on the 10000 test images: 66 %\n"
     ]
    }
   ],
   "source": [
    "# Small code snippet to determine test accuracy\n",
    "correct = 0\n",
    "total = 0\n",
    "for data in testloader:\n",
    "    # load images\n",
    "    images, labels = data\n",
    "    if use_cuda:\n",
    "        images, labels = images.cuda(), labels.cuda()\n",
    "    # feed forward\n",
    "    outputs = net(Variable(images))\n",
    "    # perform softmax regression\n",
    "    _, predicted = torch.max(outputs.data, 1)\n",
    "    # update stats\n",
    "    total += labels.size(0)\n",
    "    correct += (predicted == labels).sum()\n",
    "\n",
    "# print the results\n",
    "print('Accuracy of the network on the 10000 test images: %d %%' % (\n",
    "    100 * correct / total))"
   ]
  },
  {
   "cell_type": "markdown",
   "metadata": {},
   "source": [
    "## Accuracy per Class for Test Set"
   ]
  },
  {
   "cell_type": "code",
   "execution_count": 67,
   "metadata": {},
   "outputs": [
    {
     "name": "stdout",
     "output_type": "stream",
     "text": [
      "69.7\n",
      "79.4\n",
      "58.9\n",
      "55.5\n",
      "55.8\n",
      "56.8\n",
      "70.1\n",
      "69.0\n",
      "77.7\n",
      "75.4\n"
     ]
    }
   ],
   "source": [
    "class_correct = list(0. for i in range(10))\n",
    "class_total = list(0. for i in range(10))\n",
    "for data in testloader:\n",
    "    images, labels = data\n",
    "    if use_cuda:\n",
    "        images, labels = images.cuda(), labels.cuda()\n",
    "    outputs = net(Variable(images))\n",
    "    _, predicted = torch.max(outputs.data, 1)\n",
    "    c = (predicted == labels).squeeze()\n",
    "    for i in range(4):\n",
    "        label = labels[i]\n",
    "        class_correct[label] += c[i]\n",
    "        class_total[label] += 1\n",
    "\n",
    "# Print the accuracy per class\n",
    "for i in range(10):\n",
    "    print(classes[i], 100 * class_correct[i] / class_total[i])"
   ]
  },
  {
   "cell_type": "markdown",
   "metadata": {},
   "source": [
    "# Plot Loss"
   ]
  },
  {
   "cell_type": "code",
   "execution_count": 54,
   "metadata": {},
   "outputs": [
    {
     "data": {
      "image/png": "[encoded data removed]",
      "text/plain": [
       "<Figure size 432x288 with 1 Axes>"
      ]
     },
     "metadata": {},
     "output_type": "display_data"
    }
   ],
   "source": [
    "batch_size = 4\n",
    "loss_samples_per_epoch = 6\n",
    "num_epochs = 15\n",
    "epochs_list = [(i/loss_samples_per_epoch) for i in range(1, num_epochs*loss_samples_per_epoch + 1)]  \n",
    "plt.semilogy(epochs_list, loss_results[:-6])\n",
    "plt.ylabel('Loss')\n",
    "plt.xlabel('Epoch Number')\n",
    "plt.savefig('./DNN_v2.png', format='png', pad_inches=1, dpi=1200)"
   ]
  }
 ],
 "metadata": {
  "kernelspec": {
   "display_name": "Python [default]",
   "language": "python",
   "name": "python3"
  },
  "language_info": {
   "codemirror_mode": {
    "name": "ipython",
    "version": 3
   },
   "file_extension": ".py",
   "mimetype": "text/x-python",
   "name": "python",
   "nbconvert_exporter": "python",
   "pygments_lexer": "ipython3",
   "version": "3.6.5"
  }
 },
 "nbformat": 4,
 "nbformat_minor": 2
}
