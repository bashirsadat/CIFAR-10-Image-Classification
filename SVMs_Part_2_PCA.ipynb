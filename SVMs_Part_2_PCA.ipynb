{
 "cells": [
  {
   "cell_type": "markdown",
   "metadata": {},
   "source": [
    "## PCA For Dimensionality Reduction\n",
    "Note that these results are not included in the report."
   ]
  },
  {
   "cell_type": "markdown",
   "metadata": {},
   "source": [
    "## Load Data"
   ]
  },
  {
   "cell_type": "code",
   "execution_count": 2,
   "metadata": {},
   "outputs": [
    {
     "name": "stderr",
     "output_type": "stream",
     "text": [
      "Using TensorFlow backend.\n"
     ]
    },
    {
     "name": "stdout",
     "output_type": "stream",
     "text": [
      "(49000, 32, 32, 3)\n",
      "(49000,)\n",
      "(49000, 3072)\n",
      "[  59.   62.   63. ...,  123.   92.   72.]\n",
      "(10000, 3072)\n",
      "(10000,)\n"
     ]
    }
   ],
   "source": [
    "import os\n",
    "import time\n",
    "import numpy as np\n",
    "\n",
    "import matplotlib.pyplot as plt\n",
    "import matplotlib as mpl\n",
    "%matplotlib inline\n",
    "\n",
    "\n",
    "# Load the CIFAR10 dataset\n",
    "from keras.datasets import cifar10\n",
    "baseDir = os.path.dirname(os.path.abspath('__file__')) + '/'\n",
    "classesName = ['plane', 'car', 'bird', 'cat', 'deer', 'dog', 'frog', 'horse', 'ship', 'truck']\n",
    "(xTrain, yTrain), (xTest, yTest) = cifar10.load_data()\n",
    "xVal = xTrain[49000:, :].astype(np.float)\n",
    "yVal = np.squeeze(yTrain[49000:, :])\n",
    "xTrain = xTrain[:49000, :].astype(np.float)\n",
    "yTrain = np.squeeze(yTrain[:49000, :])\n",
    "yTest = np.squeeze(yTest)\n",
    "xTest = xTest.astype(np.float)\n",
    "\n",
    "\n",
    "print(xTrain.shape)\n",
    "print(yTrain.shape)\n",
    "xTrain = np.reshape(xTrain, (xTrain.shape[0], -1)) # The -1 means that the corresponding dimension is calculated from the other given dimensions.\n",
    "xVal = np.reshape(xVal, (xVal.shape[0], -1))\n",
    "xTest = np.reshape(xTest, (xTest.shape[0], -1))\n",
    "print(xTrain.shape) \n",
    "print(xTrain[0])\n",
    "\n",
    "\n",
    "xTrain=xTrain[:10000,:]\n",
    "yTrain=yTrain[:10000]\n",
    "print(xTrain.shape)\n",
    "print(yTrain.shape)"
   ]
  },
  {
   "cell_type": "markdown",
   "metadata": {},
   "source": [
    "## Cumulative Explained Variance against Number of Components"
   ]
  },
  {
   "cell_type": "code",
   "execution_count": 55,
   "metadata": {},
   "outputs": [
    {
     "data": {
      "image/png": "[encoded data removed]",
      "text/plain": [
       "<matplotlib.figure.Figure at 0x2b122cba668>"
      ]
     },
     "metadata": {},
     "output_type": "display_data"
    }
   ],
   "source": [
    "combined=np.vstack((xTrain,xVal))\n",
    "from sklearn.decomposition import PCA\n",
    "pca = PCA().fit(combined)\n",
    "plt.plot(np.cumsum(pca.explained_variance_ratio_))\n",
    "plt.xlabel('number of components')\n",
    "plt.ylabel('cumulative explained variance');"
   ]
  },
  {
   "cell_type": "code",
   "execution_count": 56,
   "metadata": {},
   "outputs": [
    {
     "name": "stdout",
     "output_type": "stream",
     "text": [
      "0.930647321259\n",
      "0.984641073552\n"
     ]
    }
   ],
   "source": [
    "print(pca.explained_variance_ratio_.cumsum()[149])\n",
    "print(pca.explained_variance_ratio_.cumsum()[499])"
   ]
  },
  {
   "cell_type": "markdown",
   "metadata": {},
   "source": [
    "Therefore, if we choose to reduce the number of components to 150, we can retain 93.1% of the variance in the data. On the other hand, if we reduce the number of components to 500, we can retain 98.5% of the variance in the data."
   ]
  },
  {
   "cell_type": "markdown",
   "metadata": {},
   "source": [
    "## Using 150 Dimensions "
   ]
  },
  {
   "cell_type": "code",
   "execution_count": 71,
   "metadata": {},
   "outputs": [
    {
     "name": "stdout",
     "output_type": "stream",
     "text": [
      "(150,)\n",
      "(150, 3072)\n",
      "(11000, 3072)\n",
      "(11000, 150)\n"
     ]
    }
   ],
   "source": [
    "# Reduce to 150 dimensions.\n",
    "pca = PCA(n_components=150) # project from 3072 to 150 dimensions\n",
    "pca.fit(combined)\n",
    "projected = pca.transform(combined)\n",
    "print(pca.explained_variance_.shape)\n",
    "print(pca.components_.shape)\n",
    "print(combined.shape)\n",
    "print(projected.shape)"
   ]
  },
  {
   "cell_type": "code",
   "execution_count": 72,
   "metadata": {
    "collapsed": true
   },
   "outputs": [],
   "source": [
    "x_train=projected[:10000,:]\n",
    "y_train=yTrain\n",
    "\n",
    "x_test=projected[10000:,:]\n",
    "y_test=yVal\n"
   ]
  },
  {
   "cell_type": "code",
   "execution_count": 73,
   "metadata": {},
   "outputs": [
    {
     "name": "stdout",
     "output_type": "stream",
     "text": [
      "(10000, 150)\n",
      "(10000,)\n",
      "(1000, 150)\n",
      "(1000,)\n"
     ]
    }
   ],
   "source": [
    "print(x_train.shape)\n",
    "print(y_train.shape)\n",
    "print(x_test.shape)\n",
    "print(y_test.shape)"
   ]
  },
  {
   "cell_type": "code",
   "execution_count": 74,
   "metadata": {},
   "outputs": [
    {
     "data": {
      "text/plain": [
       "SVC(C=1, cache_size=200, class_weight=None, coef0=0.0,\n",
       "  decision_function_shape='ovr', degree=3, gamma='auto', kernel='poly',\n",
       "  max_iter=-1, probability=False, random_state=None, shrinking=True,\n",
       "  tol=0.001, verbose=False)"
      ]
     },
     "execution_count": 74,
     "metadata": {},
     "output_type": "execute_result"
    }
   ],
   "source": [
    "from sklearn import svm   #After running various iterations, the polynomial kernel was chosen as the best kernel in this case.\n",
    "svc = svm.SVC(probability=False,  kernel=\"poly\", C=1)\n",
    "svc.fit(x_train, y_train)"
   ]
  },
  {
   "cell_type": "code",
   "execution_count": 75,
   "metadata": {},
   "outputs": [
    {
     "name": "stdout",
     "output_type": "stream",
     "text": [
      "Train Accuracy = 1.000000\n",
      "[6 9 9 ..., 1 1 5]\n"
     ]
    }
   ],
   "source": [
    "pred = svc.predict(x_train)\n",
    "acc_train = np.mean(pred == y_train)\n",
    "print('Train Accuracy = {0:f}'.format(acc_train))\n",
    "print(pred)"
   ]
  },
  {
   "cell_type": "code",
   "execution_count": 76,
   "metadata": {},
   "outputs": [
    {
     "name": "stdout",
     "output_type": "stream",
     "text": [
      "Test Accuracy = 0.402000\n",
      "[8 5 4 2 2 7 0 8 4 3 6 2 9 2 2 3 5 5 0 2 4 1 5 3 8 8 1 3 0 6 4 1 6 0 5 9 2\n",
      " 4 4 3 3 6 8 9 7 8 6 8 3 2 8 7 5 9 4 4 6 9 7 2 0 6 6 9 9 9 1 8 7 3 4 7 4 6\n",
      " 3 6 5 4 5 0 6 4 6 2 1 8 0 0 2 2 8 0 4 4 1 6 1 4 6 4 0 5 7 5 2 7 5 0 3 2 6\n",
      " 7 9 3 3 8 3 6 3 6 5 4 1 9 0 9 4 2 0 3 0 5 9 8 8 2 3 9 2 7 6 2 2 4 0 5 6 1\n",
      " 9 2 1 6 0 2 4 8 2 1 9 2 8 8 7 1 0 5 9 8 0 0 7 5 4 8 8 6 9 0 2 2 0 3 9 7 8\n",
      " 0 1 3 5 2 5 8 6 0 8 8 8 1 7 4 6 0 6 7 2 2 9 2 9 6 2 9 1 4 3 6 5 9 6 0 8 1\n",
      " 3 2 2 1 4 5 2 5 1 4 1 7 1 8 0 2 9 1 2 6 4 4 1 0 0 8 2 9 8 7 4 8 2 0 2 8 0\n",
      " 5 9 3 7 3 7 2 9 3 8 1 4 3 7 1 2 4 0 2 8 7 4 2 6 0 1 2 3 9 3 6 2 8 3 5 5 9\n",
      " 8 2 2 3 5 3 3 0 5 4 8 4 8 2 2 4 4 2 6 7 4 4 4 6 6 4 9 7 5 3 4 3 2 6 8 6 2\n",
      " 5 4 5 8 1 8 2 8 2 5 4 8 2 8 2 4 8 6 2 4 6 0 3 4 6 8 0 6 0 6 7 6 1 6 6 7 9\n",
      " 8 8 8 0 8 0 0 5 3 8 3 1 6 8 6 0 3 4 8 8 7 4 4 0 6 5 4 7 1 7 0 1 3 6 1 9 3\n",
      " 2 2 1 8 1 4 7 3 8 8 2 2 0 0 4 3 0 6 4 1 0 5 8 2 6 4 3 8 1 1 5 7 0 6 2 8 8\n",
      " 6 8 8 6 9 5 4 7 3 5 7 6 6 6 4 4 7 6 4 3 3 8 0 8 3 1 3 2 7 6 8 4 6 8 2 8 5\n",
      " 3 4 1 5 2 1 7 4 1 0 1 3 5 1 5 6 0 0 6 5 8 4 2 7 1 6 7 6 6 0 2 3 7 4 0 6 0\n",
      " 4 8 1 1 6 5 9 0 0 7 0 7 8 7 8 3 9 2 2 4 2 1 2 4 8 2 6 5 9 4 5 6 6 8 5 8 6\n",
      " 3 0 2 0 0 3 5 1 6 4 4 2 8 8 8 8 1 9 2 0 2 5 6 9 5 9 3 2 1 6 1 0 1 8 4 1 8\n",
      " 7 8 1 8 9 4 0 2 3 9 4 3 1 2 7 6 7 5 4 9 7 3 2 0 1 2 3 6 2 6 4 5 5 8 3 0 0\n",
      " 7 5 8 5 2 9 3 2 6 4 6 0 0 9 9 0 4 6 2 7 3 4 7 1 4 0 2 8 8 6 7 0 8 2 8 4 2\n",
      " 6 6 2 5 9 4 9 5 6 2 8 8 2 5 9 8 0 6 0 5 2 2 6 5 8 2 7 4 1 0 8 9 6 4 2 4 1\n",
      " 2 6 9 7 4 3 5 6 8 8 3 5 5 0 7 4 2 6 2 5 4 2 2 3 4 7 2 4 5 0 1 8 5 8 7 7 0\n",
      " 4 3 2 2 8 4 8 2 1 7 1 4 8 4 6 2 6 8 4 3 6 0 3 4 8 1 1 0 1 9 3 6 7 4 5 6 4\n",
      " 1 0 3 0 2 0 9 4 1 7 8 8 5 9 2 3 9 7 1 2 2 4 0 2 7 1 5 3 8 2 0 2 7 0 2 5 6\n",
      " 9 1 8 4 4 0 1 8 5 5 4 9 7 8 4 3 8 4 7 3 6 6 3 0 8 0 5 2 0 5 0 0 7 1 2 1 7\n",
      " 8 8 6 6 8 0 8 2 5 4 8 0 0 9 1 2 9 0 9 2 4 3 6 2 1 8 8 3 9 9 8 5 0 3 5 5 8\n",
      " 4 9 6 0 6 7 0 3 0 8 4 0 0 8 4 2 9 8 8 7 9 6 9 5 5 0 6 8 2 9 0 1 0 5 3 2 8\n",
      " 4 9 3 6 6 1 9 9 3 3 0 8 8 3 4 6 0 9 7 1 6 4 0 4 6 4 4 0 3 4 8 2 0 2 7 0 7\n",
      " 6 2 5 3 6 2 0 0 0 9 8 9 2 0 3 3 3 3 2 4 3 5 2 8 4 6 6 4 3 0 4 8 0 8 4 9 9\n",
      " 8]\n"
     ]
    }
   ],
   "source": [
    "pred = svc.predict(x_test)\n",
    "acc_test = np.mean(pred == y_test)\n",
    "print('Test Accuracy = {0:f}'.format(acc_test))\n",
    "print(pred)"
   ]
  },
  {
   "cell_type": "markdown",
   "metadata": {},
   "source": [
    "## Plotting Misclassified Images"
   ]
  },
  {
   "cell_type": "code",
   "execution_count": 77,
   "metadata": {
    "collapsed": true
   },
   "outputs": [],
   "source": [
    "def plt_img(x):\n",
    "    nrow = 32\n",
    "    ncol = 32\n",
    "    ncolors=3\n",
    "    xsq = x.reshape((nrow,ncol,ncolors))\n",
    "    plt.imshow(xsq)\n",
    "#     plt.xticks([])\n",
    "#     plt.yticks([])"
   ]
  },
  {
   "cell_type": "code",
   "execution_count": 102,
   "metadata": {},
   "outputs": [
    {
     "data": {
      "image/png": "[encoded data removed]",
      "text/plain": [
       "<matplotlib.figure.Figure at 0x2b101011c18>"
      ]
     },
     "metadata": {},
     "output_type": "display_data"
    }
   ],
   "source": [
    "Ierr = np.where((pred != y_test))[0]\n",
    "np.random.shuffle(Ierr)\n",
    "nplt = 4\n",
    "plt.figure(figsize=(10, 4))\n",
    "for i in range(nplt):        \n",
    "    plt.subplot(1,nplt,i+1)        \n",
    "    ind = Ierr[i]    \n",
    "    plt_img(xVal[ind,:])        \n",
    "    title = 'true={0:s} est={1:s}'.format(classesName[y_test[ind].astype(int)], classesName[pred[ind].astype(int)])\n",
    "    plt.title(title)"
   ]
  },
  {
   "cell_type": "markdown",
   "metadata": {},
   "source": [
    "## Using 500 Dimensions "
   ]
  },
  {
   "cell_type": "code",
   "execution_count": 30,
   "metadata": {},
   "outputs": [
    {
     "name": "stdout",
     "output_type": "stream",
     "text": [
      "(500,)\n",
      "(500, 3072)\n",
      "(11000, 3072)\n",
      "(11000, 500)\n"
     ]
    }
   ],
   "source": [
    "# Reduce to 500 dimensions.\n",
    "\n",
    "pca = PCA(n_components=500) # project from 3072 to 500 dimensions\n",
    "pca.fit(combined)\n",
    "projected = pca.transform(combined)\n",
    "print(pca.explained_variance_.shape)\n",
    "print(pca.components_.shape)\n",
    "print(combined.shape)\n",
    "print(projected.shape)"
   ]
  },
  {
   "cell_type": "code",
   "execution_count": 31,
   "metadata": {
    "collapsed": true
   },
   "outputs": [],
   "source": [
    "x_train=projected[:10000,:]\n",
    "y_train=yTrain\n",
    "\n",
    "x_test=projected[10000:,:]\n",
    "y_test=yVal\n",
    "\n"
   ]
  },
  {
   "cell_type": "code",
   "execution_count": 32,
   "metadata": {},
   "outputs": [
    {
     "name": "stdout",
     "output_type": "stream",
     "text": [
      "(10000, 500)\n",
      "(10000,)\n",
      "(1000, 500)\n",
      "(1000,)\n"
     ]
    }
   ],
   "source": [
    "print(x_train.shape)\n",
    "print(y_train.shape)\n",
    "print(x_test.shape)\n",
    "print(y_test.shape)"
   ]
  },
  {
   "cell_type": "code",
   "execution_count": 35,
   "metadata": {},
   "outputs": [
    {
     "data": {
      "text/plain": [
       "SVC(C=1, cache_size=200, class_weight=None, coef0=0.0,\n",
       "  decision_function_shape='ovr', degree=3, gamma='auto', kernel='poly',\n",
       "  max_iter=-1, probability=False, random_state=None, shrinking=True,\n",
       "  tol=0.001, verbose=False)"
      ]
     },
     "execution_count": 35,
     "metadata": {},
     "output_type": "execute_result"
    }
   ],
   "source": [
    "from sklearn import svm\n",
    "svc = svm.SVC(probability=False,  kernel=\"poly\", C=1)\n",
    "svc.fit(x_train, y_train)"
   ]
  },
  {
   "cell_type": "code",
   "execution_count": 23,
   "metadata": {},
   "outputs": [
    {
     "name": "stdout",
     "output_type": "stream",
     "text": [
      "Test Accuracy = 1.000000\n",
      "[6 9 9 ..., 1 1 5]\n"
     ]
    }
   ],
   "source": [
    "pred = svc.predict(x_train)\n",
    "acc_train = np.mean(pred == y_train)\n",
    "print('Train Accuracy = {0:f}'.format(acc_train))\n",
    "print(pred)"
   ]
  },
  {
   "cell_type": "code",
   "execution_count": 36,
   "metadata": {
    "scrolled": false
   },
   "outputs": [
    {
     "name": "stdout",
     "output_type": "stream",
     "text": [
      "Test Accuracy = 0.396000\n",
      "[8 5 4 2 2 7 0 8 4 3 6 4 9 2 2 3 5 5 8 2 4 1 5 3 8 8 1 2 0 1 4 1 6 4 5 9 2\n",
      " 4 6 3 0 6 8 1 7 8 2 8 3 2 1 7 5 4 0 4 3 9 7 4 0 6 6 0 9 9 1 8 7 3 4 7 4 6\n",
      " 3 4 5 4 5 0 6 4 6 2 1 8 0 0 2 2 8 0 4 4 1 6 1 4 6 4 8 5 7 3 2 7 6 0 8 2 6\n",
      " 7 9 3 3 8 3 2 3 6 3 4 1 9 0 9 4 2 0 3 0 5 9 8 8 2 3 9 2 7 5 2 2 4 2 5 6 1\n",
      " 9 2 1 6 0 2 4 8 2 1 0 2 8 8 7 1 0 5 0 8 0 0 7 4 4 8 0 6 9 8 4 2 0 3 9 7 8\n",
      " 2 1 2 6 2 5 8 6 0 8 8 8 1 7 4 6 8 8 7 2 2 9 2 9 6 2 9 1 4 2 2 5 9 6 0 8 2\n",
      " 3 2 2 1 4 5 2 5 1 4 1 7 1 8 0 4 9 1 2 6 4 4 1 0 0 8 2 9 2 7 4 8 2 0 2 8 0\n",
      " 5 9 2 7 3 7 6 9 3 8 1 4 3 6 1 2 4 0 5 8 9 4 2 6 2 1 2 3 9 3 6 2 8 3 7 6 9\n",
      " 8 2 2 3 5 3 2 0 5 4 8 4 8 2 2 6 4 2 4 7 4 4 4 6 6 4 9 7 5 2 4 3 2 6 8 6 7\n",
      " 5 4 5 8 1 8 2 8 2 5 4 8 2 8 2 4 8 2 2 4 6 0 3 4 6 8 0 6 0 6 7 6 1 6 6 7 9\n",
      " 8 8 8 0 8 0 8 5 0 8 3 1 6 8 6 9 3 2 8 8 7 4 4 8 6 5 4 7 1 7 0 1 3 6 1 9 3\n",
      " 2 4 1 8 1 4 4 3 8 8 2 2 3 0 4 2 0 6 4 1 0 7 8 2 6 4 6 8 1 1 5 7 0 6 2 8 8\n",
      " 6 8 8 6 9 5 4 7 3 5 2 4 6 6 4 6 7 6 4 3 6 8 0 8 3 1 3 2 7 6 8 4 6 8 2 0 5\n",
      " 3 4 1 5 2 1 7 4 1 0 1 2 5 1 5 6 0 0 3 5 8 4 2 6 1 6 7 4 6 0 2 3 4 4 0 6 0\n",
      " 4 4 1 1 6 5 7 0 9 4 2 7 8 7 8 2 9 2 2 4 2 4 2 4 8 2 6 2 9 4 5 6 3 8 5 8 0\n",
      " 3 0 2 0 0 3 5 1 6 4 4 2 8 8 8 8 1 9 4 0 2 5 6 9 5 9 3 2 1 6 1 0 1 8 4 1 8\n",
      " 7 8 1 8 9 4 2 2 3 9 4 3 4 6 7 6 7 5 4 9 7 3 2 0 1 2 6 5 0 6 4 5 6 8 3 0 0\n",
      " 7 5 8 5 2 9 3 4 6 4 6 0 0 9 9 0 4 6 2 7 5 8 7 9 4 0 2 8 8 6 7 0 8 1 8 4 2\n",
      " 6 6 2 5 9 4 9 5 6 2 8 8 3 8 9 8 0 6 0 4 2 2 6 5 8 2 7 4 8 0 8 9 4 4 2 4 1\n",
      " 2 6 9 7 5 3 5 6 8 8 4 5 5 0 7 4 2 6 2 5 7 2 2 3 4 7 2 4 3 0 1 8 3 8 7 7 0\n",
      " 4 3 2 2 8 4 8 2 1 7 2 4 8 4 6 2 6 8 4 3 3 0 3 4 8 1 1 0 1 9 2 6 7 4 5 3 4\n",
      " 1 0 3 0 2 0 9 4 1 7 4 8 5 9 3 3 9 2 1 2 5 6 0 2 7 4 6 3 8 4 0 2 7 0 2 5 4\n",
      " 9 1 8 4 4 0 8 8 5 5 4 9 7 8 9 3 8 4 4 3 6 6 3 0 8 0 2 2 0 5 0 4 7 1 2 1 7\n",
      " 8 8 6 6 8 0 8 2 5 4 8 0 0 9 1 4 5 0 9 2 4 3 6 4 1 8 8 3 9 9 8 5 0 3 5 5 8\n",
      " 4 9 6 0 6 7 0 3 0 8 4 8 0 8 4 2 9 8 8 7 9 6 9 5 5 0 6 8 2 9 4 1 0 5 3 4 8\n",
      " 4 9 3 6 6 1 9 9 7 9 0 8 8 3 4 6 0 9 7 1 3 4 0 4 6 4 7 6 2 5 8 2 0 2 4 0 7\n",
      " 6 2 5 3 6 2 0 4 0 9 8 4 2 0 3 1 3 3 3 4 3 6 2 8 4 6 6 4 3 0 4 8 2 8 4 9 8\n",
      " 8]\n"
     ]
    }
   ],
   "source": [
    "pred = svc.predict(x_test)\n",
    "acc_test = np.mean(pred == y_test)\n",
    "print('Test Accuracy = {0:f}'.format(acc_test))\n",
    "print(pred)"
   ]
  },
  {
   "cell_type": "markdown",
   "metadata": {
    "collapsed": true
   },
   "source": [
    "## Discussion"
   ]
  },
  {
   "cell_type": "markdown",
   "metadata": {
    "collapsed": true
   },
   "source": [
    "Therefore, we see that the test accuracy decreases from 40.2% to 39.6% if we increase the number of components from 150 to 500. Hence, in addition to decreasing the time to train the dataset, PCA also serves to filter noise in this case. \n",
    "\n",
    "In comparison to the case without using dimensionality reduction, PCA significantly improves the accuracy on the test set from 30.6% (3072 dimensions) to 40.2% (150 dimensions). However, notice that the optimal kernel in this case is the polynomial kernel in contrast to the linear kernel used earlier without dimensionality reduction. This is because the 150 components are in a different coordinate system that is better modelled by the polynomial kernel."
   ]
  },
  {
   "cell_type": "code",
   "execution_count": null,
   "metadata": {
    "collapsed": true
   },
   "outputs": [],
   "source": []
  }
 ],
 "metadata": {
  "kernelspec": {
   "display_name": "Python [default]",
   "language": "python",
   "name": "python3"
  },
  "language_info": {
   "codemirror_mode": {
    "name": "ipython",
    "version": 3
   },
   "file_extension": ".py",
   "mimetype": "text/x-python",
   "name": "python",
   "nbconvert_exporter": "python",
   "pygments_lexer": "ipython3",
   "version": "3.6.5"
  }
 },
 "nbformat": 4,
 "nbformat_minor": 2
}
